{
 "cells": [
  {
   "cell_type": "markdown",
   "metadata": {},
   "source": [
    "# Importing Libraries"
   ]
  },
  {
   "cell_type": "code",
   "execution_count": 4,
   "metadata": {},
   "outputs": [],
   "source": [
    "import numpy as np\n",
    "from sklearn.model_selection import train_test_split\n",
    "import matplotlib.pyplot as plt"
   ]
  },
  {
   "cell_type": "markdown",
   "metadata": {},
   "source": [
    "# Load preprocessed data"
   ]
  },
  {
   "cell_type": "code",
   "execution_count": 2,
   "metadata": {},
   "outputs": [],
   "source": [
    "X = np.load('data/preprocessed/features.npy')\n",
    "Y = np.load('data/preprocessed/labels.npy')"
   ]
  },
  {
   "cell_type": "markdown",
   "metadata": {},
   "source": [
    "# Split the data into training and testing set"
   ]
  },
  {
   "cell_type": "code",
   "execution_count": 3,
   "metadata": {},
   "outputs": [],
   "source": [
    "x_train, x_test, y_train, y_test = train_test_split(X, Y, test_size=0.4, random_state=42)"
   ]
  },
  {
   "cell_type": "markdown",
   "metadata": {},
   "source": [
    "# Normalize the data"
   ]
  },
  {
   "cell_type": "code",
   "execution_count": 8,
   "metadata": {},
   "outputs": [],
   "source": [
    "x_train = x_train/x_train.max()\n",
    "x_test = x_test/x_test.max()"
   ]
  },
  {
   "cell_type": "markdown",
   "metadata": {},
   "source": [
    "# One hot encoding the labels"
   ]
  },
  {
   "cell_type": "code",
   "execution_count": 32,
   "metadata": {},
   "outputs": [
    {
     "data": {
      "text/plain": [
       "array([0, 6, 9, ..., 9, 9, 6])"
      ]
     },
     "execution_count": 32,
     "metadata": {},
     "output_type": "execute_result"
    }
   ],
   "source": [
    "y_train"
   ]
  },
  {
   "cell_type": "code",
   "execution_count": 26,
   "metadata": {},
   "outputs": [],
   "source": [
    "def one_hot_encode(arr:np.array):\n",
    "    a = arr.max()\n",
    "    one_hot = np.zeros((len(arr), a))\n",
    "    final = []\n",
    "    for i,j in zip(arr, one_hot):\n",
    "        one_hot_row = np.insert(j, i, 1)\n",
    "        final.append(one_hot_row)\n",
    "    one_hot = np.array(final)\n",
    "    return(one_hot)\n"
   ]
  },
  {
   "cell_type": "code",
   "execution_count": 33,
   "metadata": {},
   "outputs": [],
   "source": [
    "y_train = y_train.astype(int)\n",
    "y_test = y_test.astype(int)"
   ]
  },
  {
   "cell_type": "code",
   "execution_count": 34,
   "metadata": {},
   "outputs": [],
   "source": [
    "y_train = one_hot_encode(y_train)\n",
    "y_test = one_hot_encode(y_test)"
   ]
  },
  {
   "cell_type": "markdown",
   "metadata": {},
   "source": [
    "# Building Neural Network"
   ]
  },
  {
   "cell_type": "code",
   "execution_count": null,
   "metadata": {},
   "outputs": [],
   "source": [
    "class DNN:\n",
    "    def fit(self, features:np.array, labels:np.array, epochs = 10):\n",
    "        X = features\n",
    "        Y = labels\n",
    "\n",
    "        '''\n",
    "            defining the structure of the neural network\n",
    "            784 neurons(input layer)\n",
    "            392 neurons(sigmoid activation in each)\n",
    "            392 neurons(sigmoid activation in each)\n",
    "            10 neurons(sigmoid activation in each)(output layer)\n",
    "        '''\n",
    "    \n",
    "    def g(self, inp):\n",
    "        return(1/(1+np.exp(-inp)))\n",
    "\n",
    "    def ForwardPropogation(self, X:np.array):\n",
    "        a1 = np.insert(X, 0, 1).T\n",
    "        global theta_matrix_1\n",
    "        global theta_matrix_2  \n",
    "        global theta_matrix_3\n",
    "\n",
    "        theta_matrix_1= np.zeros((392, len(a1)))\n",
    "        theta_matrix_2 = np.zeros((392, len(a2)))\n",
    "        theta_matrix_3 = np.zeros((10, len(a3)))\n",
    "\n",
    "        z2 = np.matmul(theta_matrix_1, a1)\n",
    "        a2 = self.g(z2)\n",
    "        a2 = np.insert(a2, 0, 1)\n",
    "\n",
    "        z3 = np.matmul(theta_matrix_2, a2)\n",
    "        a3 = self.g(z3)\n",
    "        a3 = np.insert(a3, 0, 1)\n",
    "\n",
    "        z4 = np.matmul(theta_matrix_3, a3)\n",
    "        a4 = self.g(z4)\n",
    "        global hx\n",
    "        hx = a4\n",
    "        return(hx)\n",
    "    \n",
    "    def BackPropogation(self, Y:np.array):\n",
    "        delta_4 = hx - Y.T\n",
    "        delta_3 = np.matmul(theta_matrix_3.T, delta_4)\n",
    "        delta_2 = np.matmul(theta_matrix_2.T, delta_3[1:])"
   ]
  }
 ],
 "metadata": {
  "kernelspec": {
   "display_name": "tf",
   "language": "python",
   "name": "python3"
  },
  "language_info": {
   "codemirror_mode": {
    "name": "ipython",
    "version": 3
   },
   "file_extension": ".py",
   "mimetype": "text/x-python",
   "name": "python",
   "nbconvert_exporter": "python",
   "pygments_lexer": "ipython3",
   "version": "3.9.18"
  }
 },
 "nbformat": 4,
 "nbformat_minor": 2
}
