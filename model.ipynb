{
 "cells": [
  {
   "cell_type": "markdown",
   "metadata": {},
   "source": [
    "# Defining Neural Network Architecture"
   ]
  },
  {
   "cell_type": "markdown",
   "metadata": {},
   "source": [
    "\n",
    "## Architecture :\n",
    "- 784 neurons (input layer) + 1 bias and relu activation\n",
    "- 16 neurons + 1 bias and relu activation\n",
    "- 16 neurons + 1 bias and relu activation\n",
    "- 10 neurons (output layer) and softmax activation\n",
    "\n"
   ]
  },
  {
   "cell_type": "code",
   "execution_count": 2,
   "metadata": {},
   "outputs": [],
   "source": [
    "import numpy as np"
   ]
  },
  {
   "cell_type": "code",
   "execution_count": 5,
   "metadata": {},
   "outputs": [],
   "source": [
    "class DNN:\n",
    "    def __init__(self, learning_rate):\n",
    "        self.learning_rate = learning_rate\n",
    "\n",
    "        self.theta_matrix_1 = np.zeros((16, 785))\n",
    "        self.theta_matrix_2 = np.zeros((16, 17))\n",
    "        self.theta_matrix_3 = np.zeros((10, 17))\n",
    "\n",
    "        self.delta_matrix_3 = np.zeros((10, 17))\n",
    "        self.delta_matrix_2 = np.zeros((16, 17))\n",
    "        self.delta_matrix_1 = np.zeros((16, 785))\n",
    "    \n",
    "    def relu(self, inp:np.array):\n",
    "        a = []\n",
    "        for i in inp:\n",
    "            b = max(i, 0)\n",
    "            if(b == 0):\n",
    "                b = np.array([0])\n",
    "            a.append(b)\n",
    "        a = np.array(a)\n",
    "        return(a)\n",
    "    \n",
    "    def softmax(self, inp:np.array):\n",
    "        a = []\n",
    "        denominator = np.sum(np.exp(inp))\n",
    "        for i in inp:\n",
    "            numerator = np.exp(i)\n",
    "            probability = numerator/denominator\n",
    "            a.append(probability)\n",
    "        a = np.array(a)\n",
    "        return(a)\n",
    "    \n",
    "    def forwardpropogation(self, x:np.array):\n",
    "        global a1,a2,a3,a4\n",
    "        z1 = np.reshape(x, (x.shape[0], 1))\n",
    "        a1 = self.relu(z1)\n",
    "        a1 = np.insert(a1, 0, 1, axis=0)\n",
    "        \n",
    "        z2 = np.matmul(self.theta_matrix_1, a1)\n",
    "        a2 = self.relu(z2)\n",
    "        a2 = np.insert(a2, 0, 1, axis=0)\n",
    "\n",
    "        z3 = np.matmul(self.theta_matrix_2, a2)\n",
    "        a3 = self.relu(z3)\n",
    "        a3 = np.insert(a3, 0, 1, axis=0)\n",
    "\n",
    "        z4 = np.matmul(self.theta_matrix_3, a3)\n",
    "        a4 = self.softmax(z4)\n",
    "        hx = a4\n",
    "        return(hx)\n",
    "    \n",
    "    def Cost(self, hx:np.array, y:np.array):\n",
    "        y = np.reshape(y, (y.shape[0], 1))\n",
    "        error = -np.sum(y*np.log(hx))\n",
    "        return(error)\n",
    "    \n",
    "    def backpropogation(self, y:np.array, hx:np.array):\n",
    "        y = np.reshape(y, hx.shape)\n",
    "        delta_vector_4 = hx - y\n",
    "        delta_vector_3 = np.matmul(self.theta_matrix_3.T[1:, :], delta_vector_4) * a3[1:] * (1 - a3[1:])\n",
    "        delta_vector_2 = np.matmul(self.theta_matrix_2.T[1:, :], delta_vector_3) * a2[1:] * (1 - a2[1:])\n",
    "\n",
    "        self.delta_matrix_3 += np.matmul(delta_vector_4, a3.T)\n",
    "        self.delta_matrix_2 += np.matmul(delta_vector_3, a2.T)\n",
    "        self.delta_matrix_1 += np.matmul(delta_vector_2, a1.T)\n",
    "    \n",
    "    def fit(self, x_train:np.array, y_train:np.array, epochs=10, batch_size = 100):\n",
    "        training_data = []\n",
    "        for i,j in zip(x_train, y_train):\n",
    "            training_data.append((i,j))\n",
    "        \n",
    "        train_data = []\n",
    "        b = int(len(x_train)/batch_size)\n",
    "        for i in range(batch_size):\n",
    "            train_data.append(training_data[:b])\n",
    "            training_data = training_data[b:]\n",
    "        \n",
    "        for i in range(epochs):\n",
    "            for data in train_data:\n",
    "                m = len(data)\n",
    "                for j in data:\n",
    "                    x = j[0]\n",
    "                    y = j[1]\n",
    "                    hx = self.forwardpropogation(x)\n",
    "                    self.backpropogation(y, hx)\n",
    "                t3 = self.theta_matrix_3 + (self.learning_rate/m)*(self.delta_matrix_3)\n",
    "                t2 = self.theta_matrix_2 + (self.learning_rate/m)*(self.delta_matrix_2)\n",
    "                t1 = self.theta_matrix_1 + (self.learning_rate/m)*(self.delta_matrix_1)\n",
    "\n",
    "                self.theta_matrix_1 = t1\n",
    "                self.theta_matrix_2 = t2\n",
    "                self.theta_matrix_3 = t3\n",
    "\n",
    "                self.delta_matrix_3 = np.zeros((10, 17))\n",
    "                self.delta_matrix_2 = np.zeros((16, 17))\n",
    "                self.delta_matrix_1 = np.zeros((16, 785))\n",
    "            print(f\"epoch : {i}\")\n",
    "    \n",
    "    def predict(self, x_test:np.array):\n",
    "        return(self.forwardpropogation(x_test))"
   ]
  },
  {
   "cell_type": "code",
   "execution_count": 6,
   "metadata": {},
   "outputs": [],
   "source": [
    "model = DNN(0.01)"
   ]
  },
  {
   "cell_type": "code",
   "execution_count": 7,
   "metadata": {},
   "outputs": [],
   "source": [
    "path = 'data/preprocessed/'\n",
    "x_train = np.load(f'{path}x_train.npy')\n",
    "x_test = np.load(f'{path}x_test.npy')\n",
    "y_train = np.load(f'{path}y_train.npy')\n",
    "y_test = np.load(f'{path}y_test.npy')"
   ]
  },
  {
   "cell_type": "code",
   "execution_count": 15,
   "metadata": {},
   "outputs": [
    {
     "name": "stdout",
     "output_type": "stream",
     "text": [
      "epoch : 0\n",
      "epoch : 1\n",
      "epoch : 2\n",
      "epoch : 3\n",
      "epoch : 4\n",
      "epoch : 5\n",
      "epoch : 6\n",
      "epoch : 7\n",
      "epoch : 8\n",
      "epoch : 9\n"
     ]
    }
   ],
   "source": [
    "model.fit(x_train, y_train)"
   ]
  },
  {
   "cell_type": "code",
   "execution_count": 24,
   "metadata": {},
   "outputs": [],
   "source": [
    "prediction = model.predict(x_test[0])"
   ]
  },
  {
   "cell_type": "code",
   "execution_count": 25,
   "metadata": {},
   "outputs": [
    {
     "data": {
      "text/plain": [
       "array([[0.09763067],\n",
       "       [0.07970709],\n",
       "       [0.10085839],\n",
       "       [0.09575051],\n",
       "       [0.10157482],\n",
       "       [0.12065755],\n",
       "       [0.10206645],\n",
       "       [0.09301735],\n",
       "       [0.10557817],\n",
       "       [0.10315901]])"
      ]
     },
     "execution_count": 25,
     "metadata": {},
     "output_type": "execute_result"
    }
   ],
   "source": [
    "prediction"
   ]
  },
  {
   "cell_type": "code",
   "execution_count": 26,
   "metadata": {},
   "outputs": [],
   "source": [
    "prediction = model.predict(x_test[1])"
   ]
  },
  {
   "cell_type": "code",
   "execution_count": 27,
   "metadata": {},
   "outputs": [
    {
     "data": {
      "text/plain": [
       "array([[0.09763067],\n",
       "       [0.07970709],\n",
       "       [0.10085839],\n",
       "       [0.09575051],\n",
       "       [0.10157482],\n",
       "       [0.12065755],\n",
       "       [0.10206645],\n",
       "       [0.09301735],\n",
       "       [0.10557817],\n",
       "       [0.10315901]])"
      ]
     },
     "execution_count": 27,
     "metadata": {},
     "output_type": "execute_result"
    }
   ],
   "source": [
    "prediction"
   ]
  },
  {
   "cell_type": "code",
   "execution_count": null,
   "metadata": {},
   "outputs": [],
   "source": []
  }
 ],
 "metadata": {
  "kernelspec": {
   "display_name": "tf",
   "language": "python",
   "name": "python3"
  },
  "language_info": {
   "codemirror_mode": {
    "name": "ipython",
    "version": 3
   },
   "file_extension": ".py",
   "mimetype": "text/x-python",
   "name": "python",
   "nbconvert_exporter": "python",
   "pygments_lexer": "ipython3",
   "version": "3.9.18"
  }
 },
 "nbformat": 4,
 "nbformat_minor": 2
}
