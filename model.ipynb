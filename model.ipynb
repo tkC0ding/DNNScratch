{
 "cells": [
  {
   "cell_type": "markdown",
   "metadata": {},
   "source": [
    "# Defining Neural Network Architecture"
   ]
  },
  {
   "cell_type": "markdown",
   "metadata": {},
   "source": [
    "\n",
    "## Architecture :\n",
    "- 784 neurons (input layer) + 1 bias and relu activation\n",
    "- 16 neurons + 1 bias and relu activation\n",
    "- 16 neurons + 1 bias and relu activation\n",
    "- 10 neurons (output layer) and softmax activation\n",
    "\n"
   ]
  },
  {
   "cell_type": "code",
   "execution_count": 1,
   "metadata": {},
   "outputs": [],
   "source": [
    "import numpy as np"
   ]
  },
  {
   "cell_type": "code",
   "execution_count": null,
   "metadata": {},
   "outputs": [],
   "source": [
    "class DNN:\n",
    "    def __init__(self, learning_rate):\n",
    "        self.learning_rate = learning_rate\n",
    "        self.weight_1 = np.random.randn(16, 784)\n",
    "        self.weight_2 = np.random.randn(16, 16)\n",
    "        self.weight_3 = np.random.randn(10, 16)\n",
    "\n",
    "        self.bias_1 = np.random.randn(16, 1)\n",
    "        self.bias_2 = np.random.randn(16, 1)\n",
    "        self.bias_3 = np.random.randn(10, 1)\n",
    "    \n",
    "    def relu(self, inp):\n",
    "        a = []\n",
    "        for i in inp:\n",
    "            b = max(i, 0)\n",
    "            if(b == 0):\n",
    "                b = np.array([0])\n",
    "            a.append(b)\n",
    "        return(np.array(a))\n",
    "    \n",
    "    def softmax(self, inp):\n",
    "        denominator = np.sum(np.exp(inp))\n",
    "        a = []\n",
    "        for i in inp:\n",
    "            numerator = np.exp(i)\n",
    "            probability = numerator/denominator\n",
    "            a.append(probability)\n",
    "        return(np.array(a))"
   ]
  }
 ],
 "metadata": {
  "kernelspec": {
   "display_name": "tf",
   "language": "python",
   "name": "python3"
  },
  "language_info": {
   "codemirror_mode": {
    "name": "ipython",
    "version": 3
   },
   "file_extension": ".py",
   "mimetype": "text/x-python",
   "name": "python",
   "nbconvert_exporter": "python",
   "pygments_lexer": "ipython3",
   "version": "3.9.18"
  }
 },
 "nbformat": 4,
 "nbformat_minor": 2
}
