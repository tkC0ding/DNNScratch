{
 "cells": [
  {
   "cell_type": "markdown",
   "metadata": {},
   "source": [
    "# Defining Neural Network Architecture"
   ]
  },
  {
   "cell_type": "markdown",
   "metadata": {},
   "source": [
    "\n",
    "## Architecture :\n",
    "- 784 neurons (input layer) + 1 bias and relu activation\n",
    "- 16 neurons + 1 bias and relu activation\n",
    "- 16 neurons + 1 bias and relu activation\n",
    "- 10 neurons (output layer) + 1 bias and softmax activation\n",
    "\n"
   ]
  },
  {
   "cell_type": "code",
   "execution_count": 2,
   "metadata": {},
   "outputs": [],
   "source": [
    "import numpy as np"
   ]
  },
  {
   "cell_type": "code",
   "execution_count": null,
   "metadata": {},
   "outputs": [],
   "source": [
    "class DNN:\n",
    "    def __init__(self, learning_rate):\n",
    "        self.input_layer = np.zeros((784, 1))\n",
    "        self.hidden_layer_1 = np.zeros((16, 1))\n",
    "        self.hidden_layer_2 = np.zeros((16, 1))\n",
    "        self.output_layer = np.zeros((10, 1))\n",
    "\n",
    "        self.theta_matrix_1 = np.zeros((16, 785))\n",
    "        self.theta_matrix_2 = np.zeros((16, 17))\n",
    "        self.theta_matrix_3 = np.zeros((10, 17))\n",
    "    \n",
    "    def relu(self, inp:np.array):\n",
    "        a = []\n",
    "        for i in inp:\n",
    "            if(i > 0):\n",
    "                a.append(i)\n",
    "            else:\n",
    "                a.append(0)\n",
    "        a = np.array(a)\n",
    "        a = np.reshape(a, inp.shape)\n",
    "        return(a)"
   ]
  }
 ],
 "metadata": {
  "kernelspec": {
   "display_name": "tf",
   "language": "python",
   "name": "python3"
  },
  "language_info": {
   "codemirror_mode": {
    "name": "ipython",
    "version": 3
   },
   "file_extension": ".py",
   "mimetype": "text/x-python",
   "name": "python",
   "nbconvert_exporter": "python",
   "pygments_lexer": "ipython3",
   "version": "3.9.18"
  }
 },
 "nbformat": 4,
 "nbformat_minor": 2
}
