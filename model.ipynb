{
 "cells": [
  {
   "cell_type": "markdown",
   "metadata": {},
   "source": [
    "# Importing Libraries"
   ]
  },
  {
   "cell_type": "code",
   "execution_count": 2,
   "metadata": {},
   "outputs": [],
   "source": [
    "import numpy as np\n",
    "from sklearn.model_selection import train_test_split\n",
    "import matplotlib.pyplot as plt\n",
    "import os"
   ]
  },
  {
   "cell_type": "markdown",
   "metadata": {},
   "source": [
    "# Load preprocessed data"
   ]
  },
  {
   "cell_type": "code",
   "execution_count": 3,
   "metadata": {},
   "outputs": [],
   "source": [
    "X = np.load('data/preprocessed/features.npy')\n",
    "Y = np.load('data/preprocessed/labels.npy')"
   ]
  },
  {
   "cell_type": "markdown",
   "metadata": {},
   "source": [
    "# Split the data into training and testing set"
   ]
  },
  {
   "cell_type": "code",
   "execution_count": 4,
   "metadata": {},
   "outputs": [],
   "source": [
    "x_train, x_test, y_train, y_test = train_test_split(X, Y, test_size=0.4, random_state=42)"
   ]
  },
  {
   "cell_type": "markdown",
   "metadata": {},
   "source": [
    "# Normalize the data"
   ]
  },
  {
   "cell_type": "code",
   "execution_count": 5,
   "metadata": {},
   "outputs": [],
   "source": [
    "x_train = x_train/x_train.max()\n",
    "x_test = x_test/x_test.max()"
   ]
  },
  {
   "cell_type": "markdown",
   "metadata": {},
   "source": [
    "# One hot encoding the labels"
   ]
  },
  {
   "cell_type": "code",
   "execution_count": 6,
   "metadata": {},
   "outputs": [
    {
     "data": {
      "text/plain": [
       "array([0., 6., 9., ..., 9., 9., 6.])"
      ]
     },
     "execution_count": 6,
     "metadata": {},
     "output_type": "execute_result"
    }
   ],
   "source": [
    "y_train"
   ]
  },
  {
   "cell_type": "code",
   "execution_count": 7,
   "metadata": {},
   "outputs": [],
   "source": [
    "def one_hot_encode(arr:np.array):\n",
    "    a = arr.max()\n",
    "    one_hot = np.zeros((len(arr), a))\n",
    "    final = []\n",
    "    for i,j in zip(arr, one_hot):\n",
    "        one_hot_row = np.insert(j, i, 1)\n",
    "        final.append(one_hot_row)\n",
    "    one_hot = np.array(final)\n",
    "    return(one_hot)\n"
   ]
  },
  {
   "cell_type": "code",
   "execution_count": 8,
   "metadata": {},
   "outputs": [],
   "source": [
    "y_train = y_train.astype(int)\n",
    "y_test = y_test.astype(int)"
   ]
  },
  {
   "cell_type": "code",
   "execution_count": 9,
   "metadata": {},
   "outputs": [],
   "source": [
    "y_train = one_hot_encode(y_train)\n",
    "y_test = one_hot_encode(y_test)"
   ]
  },
  {
   "cell_type": "markdown",
   "metadata": {},
   "source": [
    "# Building Neural Network"
   ]
  },
  {
   "cell_type": "code",
   "execution_count": 10,
   "metadata": {},
   "outputs": [],
   "source": [
    "class DNN:\n",
    "    def __init__(self, Learing_rate:float):\n",
    "        ''' \n",
    "        Defining architeture of neural network\n",
    "\n",
    "        784 neurons (input layer)\n",
    "        392 neurons (sigmoid activation)\n",
    "        392 neurons (sigmoid activation)\n",
    "        186 neurons (sigmoid activation)\n",
    "        10 neurons (output layer) (sigmoid activation)\n",
    "        '''\n",
    "        self.LearningRate = Learing_rate\n",
    "\n",
    "        self.theta_matrix_1 = np.zeros((392, 785))\n",
    "        self.theta_matrix_2 = np.zeros((392, 393))\n",
    "        self.theta_matrix_3 = np.zeros((186, 393))\n",
    "        self.theta_matrix_4 = np.zeros((10, 187))\n",
    "\n",
    "        self.delta_matrix_4 = np.zeros((10, 187))\n",
    "        self.delta_matrix_3 = np.zeros((186, 393))\n",
    "        self.delta_matrix_2 = np.zeros((392, 393))\n",
    "        self.delta_matrix_1 = np.zeros((392, 785))\n",
    "    \n",
    "    def g(self, inp):\n",
    "        return(1/(1+np.exp(-inp)))\n",
    "    \n",
    "    def forwardpropogation(self, X:np.array):\n",
    "        global a1,a2,a3,a4,a5\n",
    "        a1 = X.T\n",
    "        a1 = np.insert(a1, 0, 1)\n",
    "\n",
    "        z2 = np.matmul(self.theta_matrix_1, a1)\n",
    "        a2 = self.g(z2)\n",
    "        a2 = np.insert(a2, 0, 1)\n",
    "\n",
    "        z3 = np.matmul(self.theta_matrix_2, a2)\n",
    "        a3 = self.g(z3)\n",
    "        a3 = np.insert(a3, 0, 1)\n",
    "\n",
    "        z4 = np.matmul(self.theta_matrix_3, a3)\n",
    "        a4 = self.g(z4)\n",
    "        a4 = np.insert(a4, 0, 1)\n",
    "\n",
    "        z5 = np.matmul(self.theta_matrix_4, a4)\n",
    "        a5 = self.g(z5)\n",
    "        hx = a5\n",
    "        return(hx)\n",
    "    \n",
    "    def backpropogation(self, output_layer:np.array, Y:np.array):\n",
    "        delta_5 = output_layer - Y.T\n",
    "        delta_4 = np.matmul(self.theta_matrix_4.T, delta_5)\n",
    "        delta_3 = np.matmul(self.theta_matrix_3.T, delta_4[1:])\n",
    "        delta_2 = np.matmul(self.theta_matrix_2.T, delta_3[1:])\n",
    "\n",
    "        self.delta_matrix_4 += self.delta_matrix(delta_5, a4)\n",
    "        self.delta_matrix_3 += self.delta_matrix(delta_4[1:], a3)\n",
    "        self.delta_matrix_2 += self.delta_matrix(delta_3[1:], a2)\n",
    "        self.delta_matrix_1 += self.delta_matrix(delta_2[1:], a1)\n",
    "\n",
    "    def delta_matrix(self, delta_vector:np.array, activation_layer:np.array):\n",
    "        final_delta_matrix = []\n",
    "        for i in delta_vector:\n",
    "            a = i*activation_layer\n",
    "            final_delta_matrix.append(a.T)\n",
    "        return(np.array(final_delta_matrix))\n",
    "\n",
    "    def GradientDescent(self, theta_matrix:np.array, delta_matrix:np.array, m:int, lamb):\n",
    "        new_delta = (1/m)*delta_matrix\n",
    "\n",
    "        D_bias = new_delta[:, 0]\n",
    "        D_weights = new_delta[:, 1:] + theta_matrix[:, 1:]*lamb\n",
    "\n",
    "        new_bias_theta = theta_matrix[:, 0] - self.LearningRate*D_bias\n",
    "        new_weights_theta = theta_matrix[:, 1:] - self.LearningRate*D_weights\n",
    "\n",
    "        new_bias_theta.shape = (new_bias_theta.shape[0], 1)\n",
    "\n",
    "        new_theta_matrix = np.concatenate((new_bias_theta, new_weights_theta), axis=1)\n",
    "        return(new_theta_matrix)\n",
    "    \n",
    "    def fit(self, x_train:np.array, y_train:np.array, epochs = 10):\n",
    "        m = len(x_train)\n",
    "\n",
    "        for k in range(epochs):\n",
    "            for i,j in zip(x_train, y_train):\n",
    "                hx = self.forwardpropogation(i)\n",
    "                self.backpropogation(hx, j)\n",
    "            t1 = self.GradientDescent(self.theta_matrix_1, self.delta_matrix_1, m, 0.1)\n",
    "            t2 = self.GradientDescent(self.theta_matrix_2, self.delta_matrix_2, m, 0.1)\n",
    "            t3 = self.GradientDescent(self.theta_matrix_3, self.delta_matrix_3, m, 0.1)\n",
    "            t4 = self.GradientDescent(self.theta_matrix_4, self.delta_matrix_4, m, 0.1)\n",
    "\n",
    "            self.theta_matrix_1 = t1\n",
    "            self.theta_matrix_2 = t2\n",
    "            self.theta_matrix_3 = t3\n",
    "            self.theta_matrix_4 = t4\n",
    "            print(f\"epoch : {k}\")\n",
    "\n",
    "    def accuracy(self, hx:np.array, y_test:np.array):\n",
    "        acc = sum(np.mod(hx-y_test.T)/y_test.T)/len(y_test)\n",
    "        return(acc)\n",
    "    \n",
    "    def predict(self, x_test:np.array, y_test:np.array):\n",
    "        predict_list = []\n",
    "        for i,j in zip(x_test, y_test):\n",
    "            actual = np.argmax(j)\n",
    "            hx = self.forwardpropogation(i)\n",
    "            accuracy = self.accuracy(hx, j)\n",
    "            value = np.argmax(hx)\n",
    "            predict_list.append((hx, value))\n",
    "        return(predict_list)\n",
    "    \n",
    "    def save(self, path:str):\n",
    "        theta_tensor = np.array([self.theta_matrix_1, self.theta_matrix_2, self.theta_matrix_3, self.theta_matrix_4])\n",
    "        np.save(path, theta_tensor)"
   ]
  },
  {
   "cell_type": "markdown",
   "metadata": {},
   "source": [
    "# Training"
   ]
  },
  {
   "cell_type": "code",
   "execution_count": 11,
   "metadata": {},
   "outputs": [],
   "source": [
    "model = DNN(0.01)"
   ]
  },
  {
   "cell_type": "code",
   "execution_count": 12,
   "metadata": {},
   "outputs": [
    {
     "name": "stdout",
     "output_type": "stream",
     "text": [
      "epoch : 0\n",
      "epoch : 1\n",
      "epoch : 2\n",
      "epoch : 3\n",
      "epoch : 4\n",
      "epoch : 5\n",
      "epoch : 6\n",
      "epoch : 7\n",
      "epoch : 8\n",
      "epoch : 9\n"
     ]
    }
   ],
   "source": [
    "model.fit(x_train, y_train, epochs=10)"
   ]
  },
  {
   "cell_type": "code",
   "execution_count": 13,
   "metadata": {},
   "outputs": [
    {
     "ename": "TypeError",
     "evalue": "remainder() takes from 2 to 3 positional arguments but 1 were given",
     "output_type": "error",
     "traceback": [
      "\u001b[0;31m---------------------------------------------------------------------------\u001b[0m",
      "\u001b[0;31mTypeError\u001b[0m                                 Traceback (most recent call last)",
      "Cell \u001b[0;32mIn[13], line 1\u001b[0m\n\u001b[0;32m----> 1\u001b[0m predictions \u001b[38;5;241m=\u001b[39m \u001b[43mmodel\u001b[49m\u001b[38;5;241;43m.\u001b[39;49m\u001b[43mpredict\u001b[49m\u001b[43m(\u001b[49m\u001b[43mx_test\u001b[49m\u001b[43m,\u001b[49m\u001b[43m \u001b[49m\u001b[43my_test\u001b[49m\u001b[43m)\u001b[49m\n",
      "Cell \u001b[0;32mIn[10], line 108\u001b[0m, in \u001b[0;36mDNN.predict\u001b[0;34m(self, x_test, y_test)\u001b[0m\n\u001b[1;32m    106\u001b[0m actual \u001b[38;5;241m=\u001b[39m np\u001b[38;5;241m.\u001b[39margmax(j)\n\u001b[1;32m    107\u001b[0m hx \u001b[38;5;241m=\u001b[39m \u001b[38;5;28mself\u001b[39m\u001b[38;5;241m.\u001b[39mforwardpropogation(i)\n\u001b[0;32m--> 108\u001b[0m accuracy \u001b[38;5;241m=\u001b[39m \u001b[38;5;28;43mself\u001b[39;49m\u001b[38;5;241;43m.\u001b[39;49m\u001b[43maccuracy\u001b[49m\u001b[43m(\u001b[49m\u001b[43mhx\u001b[49m\u001b[43m,\u001b[49m\u001b[43m \u001b[49m\u001b[43mj\u001b[49m\u001b[43m)\u001b[49m\n\u001b[1;32m    109\u001b[0m value \u001b[38;5;241m=\u001b[39m np\u001b[38;5;241m.\u001b[39margmax(hx)\n\u001b[1;32m    110\u001b[0m predict_list\u001b[38;5;241m.\u001b[39mappend((hx, value))\n",
      "Cell \u001b[0;32mIn[10], line 100\u001b[0m, in \u001b[0;36mDNN.accuracy\u001b[0;34m(self, hx, y_test)\u001b[0m\n\u001b[1;32m     99\u001b[0m \u001b[38;5;28;01mdef\u001b[39;00m \u001b[38;5;21maccuracy\u001b[39m(\u001b[38;5;28mself\u001b[39m, hx:np\u001b[38;5;241m.\u001b[39marray, y_test:np\u001b[38;5;241m.\u001b[39marray):\n\u001b[0;32m--> 100\u001b[0m     acc \u001b[38;5;241m=\u001b[39m (\u001b[38;5;28msum\u001b[39m(\u001b[43mnp\u001b[49m\u001b[38;5;241;43m.\u001b[39;49m\u001b[43mmod\u001b[49m\u001b[43m(\u001b[49m\u001b[43mhx\u001b[49m\u001b[38;5;241;43m-\u001b[39;49m\u001b[43my_test\u001b[49m\u001b[38;5;241;43m.\u001b[39;49m\u001b[43mT\u001b[49m\u001b[43m)\u001b[49m\u001b[38;5;241m/\u001b[39my_test\u001b[38;5;241m.\u001b[39mT)\u001b[38;5;241m/\u001b[39m\u001b[38;5;28mlen\u001b[39m(y_test))\u001b[38;5;241m*\u001b[39m\u001b[38;5;241m100\u001b[39m\n\u001b[1;32m    101\u001b[0m     \u001b[38;5;28;01mreturn\u001b[39;00m(acc)\n",
      "\u001b[0;31mTypeError\u001b[0m: remainder() takes from 2 to 3 positional arguments but 1 were given"
     ]
    }
   ],
   "source": [
    "predictions = model.predict(x_test, y_test)"
   ]
  },
  {
   "cell_type": "code",
   "execution_count": null,
   "metadata": {},
   "outputs": [],
   "source": []
  }
 ],
 "metadata": {
  "kernelspec": {
   "display_name": "tf",
   "language": "python",
   "name": "python3"
  },
  "language_info": {
   "codemirror_mode": {
    "name": "ipython",
    "version": 3
   },
   "file_extension": ".py",
   "mimetype": "text/x-python",
   "name": "python",
   "nbconvert_exporter": "python",
   "pygments_lexer": "ipython3",
   "version": "3.9.18"
  }
 },
 "nbformat": 4,
 "nbformat_minor": 2
}
