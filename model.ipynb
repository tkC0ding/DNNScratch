{
 "cells": [
  {
   "cell_type": "markdown",
   "metadata": {},
   "source": [
    "# Defining Neural Network Architecture"
   ]
  },
  {
   "cell_type": "markdown",
   "metadata": {},
   "source": [
    "\n",
    "## Architecture :\n",
    "- 784 neurons (input layer) + 1 bias and relu activation\n",
    "- 16 neurons + 1 bias and relu activation\n",
    "- 16 neurons + 1 bias and relu activation\n",
    "- 10 neurons (output layer) and softmax activation\n",
    "\n"
   ]
  },
  {
   "cell_type": "code",
   "execution_count": 1,
   "metadata": {},
   "outputs": [],
   "source": [
    "import numpy as np"
   ]
  },
  {
   "cell_type": "code",
   "execution_count": null,
   "metadata": {},
   "outputs": [],
   "source": [
    "class DNN:\n",
    "    def __init__(self, learning_rate, input_layer, hidden_layer_1, hidden_layer_2, output_layer):\n",
    "        self.learning_rate = learning_rate\n",
    "        self.a1 = np.zeros((input_layer, 1))\n",
    "        self.a2 = np.zeros((hidden_layer_1, 1))\n",
    "        self.a3 = np.zeros((hidden_layer_2, 1))\n",
    "        self.a4 = np.zeros((output_layer, 1))\n",
    "\n",
    "        self.weight_1 = np.random.randn(16, 784)\n",
    "        self.weight_2 = np.random.randn(16, 16)\n",
    "        self.weight_3 = np.random.randn(10, 16)\n",
    "\n",
    "        self.bias_1 = np.random.randn(16, 1)\n",
    "        self.bias_2 = np.random.randn(16, 1)\n",
    "        self.bias_3 = np.random.randn(10, 1)\n",
    "    \n",
    "    def relu(self, inp):\n",
    "        a = []\n",
    "        for i in inp:\n",
    "            b = max(i, 0)\n",
    "            if(b == 0):\n",
    "                b = np.array([0])\n",
    "            a.append(b)\n",
    "        return(np.array(a))\n",
    "    \n",
    "    def softmax(self, inp):\n",
    "        denominator = np.sum(np.exp(inp))\n",
    "        a = []\n",
    "        for i in inp:\n",
    "            numerator = np.exp(i)\n",
    "            probability = numerator/denominator\n",
    "            a.append(probability)\n",
    "        return(np.array(a))\n",
    "    \n",
    "    def forwardpropogation(self, x:np.array):\n",
    "        self.a1 = self.relu(np.reshape(x, (x.shape[0], 1)))\n",
    "\n",
    "        z2 = np.matmul(self.weight_1, self.a1) + self.bias_1\n",
    "        self.a2 = self.relu(z2)\n",
    "\n",
    "        z3 = np.matmul(self.weight_2, self.a2) + self.bias_2\n",
    "        self.a3 = self.relu(z3)\n",
    "\n",
    "        z4 = np.matmul(self.weight_3, self.a3) + self.bias_3\n",
    "        self.a4 = self.softmax(z4)\n",
    "        return(self.a4)"
   ]
  }
 ],
 "metadata": {
  "kernelspec": {
   "display_name": "tf",
   "language": "python",
   "name": "python3"
  },
  "language_info": {
   "codemirror_mode": {
    "name": "ipython",
    "version": 3
   },
   "file_extension": ".py",
   "mimetype": "text/x-python",
   "name": "python",
   "nbconvert_exporter": "python",
   "pygments_lexer": "ipython3",
   "version": "3.9.18"
  }
 },
 "nbformat": 4,
 "nbformat_minor": 2
}
