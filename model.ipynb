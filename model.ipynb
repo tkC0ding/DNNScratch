{
 "cells": [
  {
   "cell_type": "markdown",
   "metadata": {},
   "source": [
    "# Defining Neural Network Architecture"
   ]
  },
  {
   "cell_type": "markdown",
   "metadata": {},
   "source": [
    "\n",
    "## Architecture :\n",
    "- 784 neurons (input layer) + 1 bias and relu activation\n",
    "- 16 neurons + 1 bias and relu activation\n",
    "- 16 neurons + 1 bias and relu activation\n",
    "- 10 neurons (output layer) + 1 bias and softmax activation\n",
    "\n"
   ]
  },
  {
   "cell_type": "code",
   "execution_count": 1,
   "metadata": {},
   "outputs": [],
   "source": [
    "import numpy as np"
   ]
  },
  {
   "cell_type": "code",
   "execution_count": null,
   "metadata": {},
   "outputs": [],
   "source": [
    "class DNN:\n",
    "    def __init__(self, learning_rate):\n",
    "        self.theta_matrix_1 = np.zeros((16, 785))\n",
    "        self.theta_matrix_2 = np.zeros((16, 17))\n",
    "        self.theta_matrix_3 = np.zeros((10, 17))\n",
    "    \n",
    "    def relu(self, inp:np.array):\n",
    "        a = []\n",
    "        for i in inp:\n",
    "            if(i > 0):\n",
    "                a.append(i)\n",
    "            else:\n",
    "                a.append(np.array([0]))\n",
    "        a = np.array(a)\n",
    "        return(a)\n",
    "    \n",
    "    def softmax(self, inp:np.array):\n",
    "        a = []\n",
    "        denominator = np.sum(np.exp(inp))\n",
    "        for i in inp:\n",
    "            numerator = np.exp(i)\n",
    "            probability = numerator/denominator\n",
    "            a.append(probability)\n",
    "        a = np.array(a)\n",
    "        return(a)\n",
    "    \n",
    "    def forwardpropogation(self, x:np.array):\n",
    "        z1 = np.reshape(x, (x.shape[0], 1))\n",
    "        a1 = self.relu(z1)\n",
    "        a1 = np.insert(a1, 0, 1, axis=0)\n",
    "        \n",
    "        z2 = np.matmul(self.theta_matrix_1, a1)\n",
    "        a2 = self.relu(z2)\n",
    "        a2 = np.insert(a2, 0, 1, axis=0)\n",
    "\n",
    "        z3 = np.matmul(self.theta_matrix_2, a2)\n",
    "        a3 = self.relu(z3)\n",
    "        a3 = np.insert(a3, 0, 1, axis=0)\n",
    "\n",
    "        z4 = np.matmul(self.theta_matrix_3, a3)\n",
    "        a4 = self.softmax(z4)\n",
    "        hx = a4\n",
    "        return(hx)"
   ]
  },
  {
   "cell_type": "code",
   "execution_count": null,
   "metadata": {},
   "outputs": [],
   "source": []
  }
 ],
 "metadata": {
  "kernelspec": {
   "display_name": "tf",
   "language": "python",
   "name": "python3"
  },
  "language_info": {
   "codemirror_mode": {
    "name": "ipython",
    "version": 3
   },
   "file_extension": ".py",
   "mimetype": "text/x-python",
   "name": "python",
   "nbconvert_exporter": "python",
   "pygments_lexer": "ipython3",
   "version": "3.9.18"
  }
 },
 "nbformat": 4,
 "nbformat_minor": 2
}
