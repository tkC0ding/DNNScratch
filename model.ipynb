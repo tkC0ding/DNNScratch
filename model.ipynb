{
 "cells": [
  {
   "cell_type": "markdown",
   "metadata": {},
   "source": [
    "# Importing Libraries"
   ]
  },
  {
   "cell_type": "code",
   "execution_count": 1,
   "metadata": {},
   "outputs": [],
   "source": [
    "import numpy as np\n",
    "from sklearn.model_selection import train_test_split\n",
    "import matplotlib.pyplot as plt\n",
    "import pickle"
   ]
  },
  {
   "cell_type": "markdown",
   "metadata": {},
   "source": [
    "# Load preprocessed data"
   ]
  },
  {
   "cell_type": "code",
   "execution_count": 2,
   "metadata": {},
   "outputs": [],
   "source": [
    "X = np.load('data/preprocessed/features.npy')\n",
    "Y = np.load('data/preprocessed/labels.npy')"
   ]
  },
  {
   "cell_type": "markdown",
   "metadata": {},
   "source": [
    "# Split the data into training and testing set"
   ]
  },
  {
   "cell_type": "code",
   "execution_count": 3,
   "metadata": {},
   "outputs": [],
   "source": [
    "x_train, x_test, y_train, y_test = train_test_split(X, Y, test_size=0.4, random_state=42)"
   ]
  },
  {
   "cell_type": "markdown",
   "metadata": {},
   "source": [
    "# Normalize the data"
   ]
  },
  {
   "cell_type": "code",
   "execution_count": 4,
   "metadata": {},
   "outputs": [],
   "source": [
    "x_train = x_train/x_train.max()\n",
    "x_test = x_test/x_test.max()"
   ]
  },
  {
   "cell_type": "markdown",
   "metadata": {},
   "source": [
    "# One hot encoding the labels"
   ]
  },
  {
   "cell_type": "code",
   "execution_count": 5,
   "metadata": {},
   "outputs": [
    {
     "data": {
      "text/plain": [
       "array([0., 6., 9., ..., 9., 9., 6.])"
      ]
     },
     "execution_count": 5,
     "metadata": {},
     "output_type": "execute_result"
    }
   ],
   "source": [
    "y_train"
   ]
  },
  {
   "cell_type": "code",
   "execution_count": 6,
   "metadata": {},
   "outputs": [],
   "source": [
    "def one_hot_encode(arr:np.array):\n",
    "    a = arr.max()\n",
    "    one_hot = np.zeros((len(arr), a))\n",
    "    final = []\n",
    "    for i,j in zip(arr, one_hot):\n",
    "        one_hot_row = np.insert(j, i, 1)\n",
    "        final.append(one_hot_row)\n",
    "    one_hot = np.array(final)\n",
    "    return(one_hot)\n"
   ]
  },
  {
   "cell_type": "code",
   "execution_count": 7,
   "metadata": {},
   "outputs": [],
   "source": [
    "y_train = y_train.astype(int)\n",
    "y_test = y_test.astype(int)"
   ]
  },
  {
   "cell_type": "code",
   "execution_count": 8,
   "metadata": {},
   "outputs": [],
   "source": [
    "y_train = one_hot_encode(y_train)\n",
    "y_test = one_hot_encode(y_test)"
   ]
  },
  {
   "cell_type": "markdown",
   "metadata": {},
   "source": [
    "# Building Neural Network"
   ]
  },
  {
   "cell_type": "code",
   "execution_count": 23,
   "metadata": {},
   "outputs": [],
   "source": [
    "class DNN:\n",
    "    def __init__(self, Learing_rate:float):\n",
    "        ''' \n",
    "        Defining architeture of neural network\n",
    "\n",
    "        784 neurons (input layer)\n",
    "        392 neurons (tanh activation)\n",
    "        392 neurons (tanh activation)\n",
    "        186 neurons (tanh activation)\n",
    "        10 neurons (output layer) (sigmoid activation)\n",
    "        '''\n",
    "        self.LearningRate = Learing_rate\n",
    "\n",
    "        self.theta_matrix_1 = np.zeros((392, 785))\n",
    "        self.theta_matrix_2 = np.zeros((392, 393))\n",
    "        self.theta_matrix_3 = np.zeros((186, 393))\n",
    "        self.theta_matrix_4 = np.zeros((10, 187))\n",
    "\n",
    "        self.delta_matrix_4 = np.zeros((10, 187))\n",
    "        self.delta_matrix_3 = np.zeros((186, 393))\n",
    "        self.delta_matrix_2 = np.zeros((392, 393))\n",
    "        self.delta_matrix_1 = np.zeros((392, 785))\n",
    "    \n",
    "    def g(self, inp):\n",
    "        return(1/(1+np.exp(-inp)))\n",
    "    \n",
    "    def tanh(self, inp):\n",
    "        return((np.exp(inp) - np.exp(-inp))/(np.exp(inp) + np.exp(-inp)))\n",
    "    \n",
    "    def relu(self, inp):\n",
    "        return np.maximum(inp, 0)\n",
    "    \n",
    "    def softmax(self, inp):\n",
    "        l = []\n",
    "        for i in inp:\n",
    "            l.append(np.exp(i)/(sum(np.exp(inp)) - np.exp(i)))\n",
    "        a = np.array(l)\n",
    "        a.shape = inp.shape\n",
    "        return(a)\n",
    "\n",
    "    def forwardpropogation(self, X:np.array):\n",
    "        global a1,a2,a3,a4,a5\n",
    "        a1 = X.T\n",
    "        a1 = np.insert(a1, 0, 1)\n",
    "\n",
    "        z2 = np.matmul(self.theta_matrix_1, a1)\n",
    "        a2 = self.relu(z2)\n",
    "        a2 = np.insert(a2, 0, 1)\n",
    "\n",
    "        z3 = np.matmul(self.theta_matrix_2, a2)\n",
    "        a3 = self.relu(z3)\n",
    "        a3 = np.insert(a3, 0, 1)\n",
    "\n",
    "        z4 = np.matmul(self.theta_matrix_3, a3)\n",
    "        a4 = self.relu(z4)\n",
    "        a4 = np.insert(a4, 0, 1)\n",
    "\n",
    "        z5 = np.matmul(self.theta_matrix_4, a4)\n",
    "        a5 = self.softmax(z5)\n",
    "        hx = a5\n",
    "        return(hx)\n",
    "    \n",
    "    def backpropogation(self, output_layer:np.array, Y:np.array):\n",
    "        delta_5 = output_layer - Y.T\n",
    "        delta_4 = np.matmul(self.theta_matrix_4.T, delta_5)\n",
    "        delta_3 = np.matmul(self.theta_matrix_3.T, delta_4[1:])\n",
    "        delta_2 = np.matmul(self.theta_matrix_2.T, delta_3[1:])\n",
    "\n",
    "        self.delta_matrix_4 += self.delta_matrix(delta_5, a4)\n",
    "        self.delta_matrix_3 += self.delta_matrix(delta_4[1:], a3)\n",
    "        self.delta_matrix_2 += self.delta_matrix(delta_3[1:], a2)\n",
    "        self.delta_matrix_1 += self.delta_matrix(delta_2[1:], a1)\n",
    "\n",
    "    def delta_matrix(self, delta_vector:np.array, activation_layer:np.array):\n",
    "        final_delta_matrix = []\n",
    "        for i in delta_vector:\n",
    "            a = i*activation_layer\n",
    "            final_delta_matrix.append(a.T)\n",
    "        return(np.array(final_delta_matrix))\n",
    "\n",
    "    def GradientDescent(self, theta_matrix:np.array, delta_matrix:np.array, m:int, lamb):\n",
    "        new_delta = (1/m)*delta_matrix\n",
    "\n",
    "        D_bias = new_delta[:, 0]\n",
    "        D_weights = new_delta[:, 1:] + theta_matrix[:, 1:]*lamb\n",
    "\n",
    "        new_bias_theta = theta_matrix[:, 0] - self.LearningRate*D_bias\n",
    "        new_weights_theta = theta_matrix[:, 1:] - self.LearningRate*D_weights\n",
    "\n",
    "        new_bias_theta.shape = (new_bias_theta.shape[0], 1)\n",
    "\n",
    "        new_theta_matrix = np.concatenate((new_bias_theta, new_weights_theta), axis=1)\n",
    "        return(new_theta_matrix)\n",
    "    \n",
    "    def fit(self, x_train:np.array, y_train:np.array, batch_size:int, epochs = 10):\n",
    "        m = len(x_train)\n",
    "        training_data = []\n",
    "        for i,j in zip(x_train,y_train):\n",
    "            training_data.append((i,j))\n",
    "        \n",
    "        b = int(m/batch_size)\n",
    "        final_train_data = []\n",
    "\n",
    "        for i in range(b):\n",
    "            final_train_data.append(training_data[:batch_size])\n",
    "            training_data = training_data[batch_size:]\n",
    "        \n",
    "        for i in range(epochs):\n",
    "            print(f'epochs : {i}')\n",
    "            for data in final_train_data:\n",
    "                x_train = np.array([j[0] for j in data])\n",
    "                y_train = np.array([j[1] for j in data])\n",
    "                for k,h in zip(x_train, y_train):\n",
    "                    hx = self.forwardpropogation(k)\n",
    "                    self.backpropogation(hx, h)\n",
    "                t1 = self.GradientDescent(self.theta_matrix_1, self.delta_matrix_1, m, 0.001)\n",
    "                t2 = self.GradientDescent(self.theta_matrix_2, self.delta_matrix_2, m, 0.001)\n",
    "                t3 = self.GradientDescent(self.theta_matrix_3, self.delta_matrix_3, m, 0.001)\n",
    "                t4 = self.GradientDescent(self.theta_matrix_4, self.delta_matrix_4, m, 0.001)\n",
    "\n",
    "                self.theta_matrix_1 = t1\n",
    "                self.theta_matrix_2 = t2\n",
    "                self.theta_matrix_3 = t3\n",
    "                self.theta_matrix_4 = t4\n",
    "\n",
    "    \n",
    "    def predict(self, x_test:np.array):\n",
    "        hx = self.forwardpropogation(x_test)\n",
    "        return(hx)\n",
    "    \n",
    "    def Save(self, path:str):\n",
    "        l = [self.theta_matrix_1, self.theta_matrix_2, self.theta_matrix_3, self.theta_matrix_4]\n",
    "        with open(path, 'wb') as f:\n",
    "            pickle.dump(l, f)\n",
    "    \n",
    "    def Load(self, path):\n",
    "        with open(path, 'rb') as file:\n",
    "            theta_vectors = pickle.load(file)\n",
    "            self.theta_matrix_1 = theta_vectors[0]\n",
    "            self.theta_matrix_2 = theta_vectors[1]\n",
    "            self.theta_matrix_3 = theta_vectors[2]\n",
    "            self.theta_matrix_4 = theta_vectors[3]"
   ]
  },
  {
   "cell_type": "markdown",
   "metadata": {},
   "source": [
    "# Training"
   ]
  },
  {
   "cell_type": "code",
   "execution_count": 24,
   "metadata": {},
   "outputs": [],
   "source": [
    "model = DNN(0.01)"
   ]
  },
  {
   "cell_type": "code",
   "execution_count": 44,
   "metadata": {},
   "outputs": [
    {
     "name": "stdout",
     "output_type": "stream",
     "text": [
      "epochs : 0\n",
      "epochs : 1\n",
      "epochs : 2\n",
      "epochs : 3\n",
      "epochs : 4\n",
      "epochs : 5\n",
      "epochs : 6\n",
      "epochs : 7\n",
      "epochs : 8\n",
      "epochs : 9\n"
     ]
    }
   ],
   "source": [
    "model.fit(x_train, y_train, 100, epochs=10)"
   ]
  },
  {
   "cell_type": "code",
   "execution_count": 45,
   "metadata": {},
   "outputs": [],
   "source": [
    "model.Save('/mnt/c/MachineLearning/DNNScratch/SavedModel/model.pkl')"
   ]
  },
  {
   "cell_type": "markdown",
   "metadata": {},
   "source": [
    "# Loading model, no need to train every time i open this file : )"
   ]
  },
  {
   "cell_type": "code",
   "execution_count": 25,
   "metadata": {},
   "outputs": [],
   "source": [
    "model.Load('SavedModel/model.pkl')"
   ]
  },
  {
   "cell_type": "code",
   "execution_count": 32,
   "metadata": {},
   "outputs": [],
   "source": [
    "i = x_test[10]"
   ]
  },
  {
   "cell_type": "code",
   "execution_count": 33,
   "metadata": {},
   "outputs": [],
   "source": [
    "predictions = model.predict(i)"
   ]
  },
  {
   "cell_type": "code",
   "execution_count": 34,
   "metadata": {},
   "outputs": [
    {
     "data": {
      "text/plain": [
       "array([0.10971629, 0.12042861, 0.10998997, 0.11133679, 0.10952186,\n",
       "       0.10849868, 0.10991029, 0.11210873, 0.10971694, 0.10997691])"
      ]
     },
     "execution_count": 34,
     "metadata": {},
     "output_type": "execute_result"
    }
   ],
   "source": [
    "predictions"
   ]
  },
  {
   "cell_type": "code",
   "execution_count": null,
   "metadata": {},
   "outputs": [],
   "source": []
  }
 ],
 "metadata": {
  "kernelspec": {
   "display_name": "tf",
   "language": "python",
   "name": "python3"
  },
  "language_info": {
   "codemirror_mode": {
    "name": "ipython",
    "version": 3
   },
   "file_extension": ".py",
   "mimetype": "text/x-python",
   "name": "python",
   "nbconvert_exporter": "python",
   "pygments_lexer": "ipython3",
   "version": "3.9.18"
  }
 },
 "nbformat": 4,
 "nbformat_minor": 2
}
